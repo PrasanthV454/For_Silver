{
  "nbformat": 4,
  "nbformat_minor": 0,
  "metadata": {
    "colab": {
      "name": "ResNet_50.ipynb",
      "provenance": [],
      "collapsed_sections": [],
      "authorship_tag": "ABX9TyMzEsQh54IaGd5uF8Yo+fjG",
      "include_colab_link": true
    },
    "kernelspec": {
      "name": "python3",
      "display_name": "Python 3"
    }
  },
  "cells": [
    {
      "cell_type": "markdown",
      "metadata": {
        "id": "view-in-github",
        "colab_type": "text"
      },
      "source": [
        "<a href=\"https://colab.research.google.com/github/PrasanthV454/For_Silver/blob/master/ResNet_50.ipynb\" target=\"_parent\"><img src=\"https://colab.research.google.com/assets/colab-badge.svg\" alt=\"Open In Colab\"/></a>"
      ]
    },
    {
      "cell_type": "code",
      "metadata": {
        "id": "by7-3eNtyqhz",
        "colab_type": "code",
        "outputId": "5af54ee1-0263-4770-99d0-4107a75b023d",
        "colab": {
          "base_uri": "https://localhost:8080/",
          "height": 50
        }
      },
      "source": [
        "%tensorflow_version 1.x\n",
        "from keras.layers import *\n",
        "from keras.models import Sequential\n",
        "from keras.applications.resnet50 import ResNet50\n",
        "import os\n",
        "import glob\n",
        "import shutil\n",
        "import sys\n",
        "import numpy as np\n",
        "from skimage.io import imread\n",
        "import matplotlib.pyplot as plt\n",
        "from IPython.display import Image\n",
        "\n",
        "batch_size = 48\n",
        "width=150\n",
        "height=150\n",
        "epochs=20\n",
        "NUM_TRAIN=2000\n",
        "NUM_TEST=1000\n",
        "dropout_rate=0.2\n",
        "input_shape=(height,width,3)"
      ],
      "execution_count": 1,
      "outputs": [
        {
          "output_type": "stream",
          "text": [
            "TensorFlow 1.x selected.\n"
          ],
          "name": "stdout"
        },
        {
          "output_type": "stream",
          "text": [
            "Using TensorFlow backend.\n"
          ],
          "name": "stderr"
        }
      ]
    },
    {
      "cell_type": "code",
      "metadata": {
        "id": "fJdIoGfg9leY",
        "colab_type": "code",
        "colab": {}
      },
      "source": [
        "conv_base=ResNet50(weights='imagenet',include_top=False,input_shape=input_shape)"
      ],
      "execution_count": 0,
      "outputs": []
    },
    {
      "cell_type": "code",
      "metadata": {
        "id": "XFbKADhCl9v6",
        "colab_type": "code",
        "outputId": "e797fff2-65c7-4ecf-e465-dc524422f6e1",
        "colab": {
          "base_uri": "https://localhost:8080/",
          "height": 222
        }
      },
      "source": [
        "!wget https://download.microsoft.com/download/3/E/1/3E1C3F21-ECDB-4869-8368-6DEBA77B919F/kagglecatsanddogs_3367a.zip"
      ],
      "execution_count": 3,
      "outputs": [
        {
          "output_type": "stream",
          "text": [
            "--2020-04-01 05:27:07--  https://download.microsoft.com/download/3/E/1/3E1C3F21-ECDB-4869-8368-6DEBA77B919F/kagglecatsanddogs_3367a.zip\n",
            "Resolving download.microsoft.com (download.microsoft.com)... 23.193.24.126, 2600:1417:76:586::e59, 2600:1417:76:58e::e59\n",
            "Connecting to download.microsoft.com (download.microsoft.com)|23.193.24.126|:443... connected.\n",
            "HTTP request sent, awaiting response... 200 OK\n",
            "Length: 824894548 (787M) [application/octet-stream]\n",
            "Saving to: ‘kagglecatsanddogs_3367a.zip’\n",
            "\n",
            "kagglecatsanddogs_3 100%[===================>] 786.68M   215MB/s    in 3.8s    \n",
            "\n",
            "2020-04-01 05:27:12 (209 MB/s) - ‘kagglecatsanddogs_3367a.zip’ saved [824894548/824894548]\n",
            "\n"
          ],
          "name": "stdout"
        }
      ]
    },
    {
      "cell_type": "code",
      "metadata": {
        "id": "BWUREICVmRbX",
        "colab_type": "code",
        "colab": {}
      },
      "source": [
        "!unzip -qq kagglecatsanddogs_3367a.zip -d dog_vs_cat"
      ],
      "execution_count": 0,
      "outputs": []
    },
    {
      "cell_type": "code",
      "metadata": {
        "id": "5cnVHf5qmyIf",
        "colab_type": "code",
        "outputId": "2c8ea958-f9f8-46da-b0af-f1b1f98037df",
        "colab": {
          "base_uri": "https://localhost:8080/",
          "height": 34
        }
      },
      "source": [
        "!ls dog_vs_cat/PetImages/"
      ],
      "execution_count": 5,
      "outputs": [
        {
          "output_type": "stream",
          "text": [
            "Cat  Dog\n"
          ],
          "name": "stdout"
        }
      ]
    },
    {
      "cell_type": "code",
      "metadata": {
        "id": "tOnD4RJFm_L4",
        "colab_type": "code",
        "outputId": "68af5dcf-d011-4738-96e5-115cebeedd22",
        "colab": {
          "base_uri": "https://localhost:8080/",
          "height": 50
        }
      },
      "source": [
        "original_dataset_dir='./dog_vs_cat/PetImages'\n",
        "cat_images = glob.glob(os.path.join(original_dataset_dir, \"Cat\", '*.jpg'))\n",
        "dog_images = glob.glob(os.path.join(original_dataset_dir, \"Dog\", '*.jpg'))\n",
        "print(len(cat_images))\n",
        "print(len(dog_images))"
      ],
      "execution_count": 6,
      "outputs": [
        {
          "output_type": "stream",
          "text": [
            "12500\n",
            "12500\n"
          ],
          "name": "stdout"
        }
      ]
    },
    {
      "cell_type": "code",
      "metadata": {
        "id": "LmI8KZzGm_Pj",
        "colab_type": "code",
        "colab": {}
      },
      "source": [
        "base_dir = './data/dog_vs_cat_small'\n",
        "os.makedirs(base_dir, exist_ok=True)\n",
        "train_dir = os.path.join(base_dir, 'train')\n",
        "os.makedirs(train_dir, exist_ok=True)\n",
        "validation_dir = os.path.join(base_dir, 'validation')\n",
        "os.makedirs(validation_dir, exist_ok=True)\n",
        "test_dir = os.path.join(base_dir, 'test')\n",
        "os.makedirs(test_dir, exist_ok=True)\n",
        "train_cats_dir = os.path.join(train_dir, 'cats')\n",
        "os.makedirs(train_cats_dir, exist_ok=True)\n",
        "train_dogs_dir = os.path.join(train_dir, 'dogs')\n",
        "os.makedirs(train_dogs_dir, exist_ok=True)\n",
        "validation_cats_dir = os.path.join(validation_dir, 'cats')\n",
        "os.makedirs(validation_cats_dir, exist_ok=True)\n",
        "validation_dogs_dir = os.path.join(validation_dir, 'dogs')\n",
        "os.makedirs(validation_dogs_dir, exist_ok=True)\n",
        "test_cats_dir = os.path.join(test_dir, 'cats')\n",
        "os.makedirs(test_cats_dir, exist_ok=True)\n",
        "test_dogs_dir = os.path.join(test_dir, 'dogs')\n",
        "os.makedirs(test_dogs_dir, exist_ok=True)\n",
        "\n",
        "fnames = cat_images[:NUM_TRAIN//2]\n",
        "for fname in fnames:\n",
        "    dst = os.path.join(train_cats_dir, os.path.basename(fname))\n",
        "    shutil.copyfile(fname, dst)\n",
        "\n",
        "offset = NUM_TRAIN//2\n",
        "\n",
        "fnames = cat_images[offset:offset + NUM_TEST // 2]\n",
        "for fname in fnames:\n",
        "    dst = os.path.join(validation_cats_dir, os.path.basename(fname))\n",
        "    shutil.copyfile(fname, dst)\n",
        "\n",
        "offset = offset + NUM_TEST // 2\n",
        "\n",
        "fnames = cat_images[offset:offset + NUM_TEST // 2]\n",
        "for fname in fnames:\n",
        "    dst = os.path.join(test_cats_dir, os.path.basename(fname))\n",
        "    shutil.copyfile(fname, dst)\n",
        "\n",
        "fnames = dog_images[:NUM_TRAIN//2]\n",
        "for fname in fnames:\n",
        "    dst = os.path.join(train_dogs_dir, os.path.basename(fname))\n",
        "    shutil.copyfile(fname, dst)\n",
        "\n",
        "\n",
        "offset = NUM_TRAIN//2\n",
        "\n",
        "fnames = dog_images[offset:offset + NUM_TEST // 2]\n",
        "for fname in fnames:\n",
        "    dst = os.path.join(validation_dogs_dir, os.path.basename(fname))\n",
        "    shutil.copyfile(fname, dst)\n",
        "\n",
        "offset = offset + NUM_TEST // 2\n",
        "\n",
        "fnames = dog_images[offset:offset + NUM_TEST // 2]\n",
        "for fname in fnames:\n",
        "    dst = os.path.join(test_dogs_dir, os.path.basename(fname))\n",
        "    shutil.copyfile(fname, dst)"
      ],
      "execution_count": 0,
      "outputs": []
    },
    {
      "cell_type": "code",
      "metadata": {
        "id": "vXk_LgQErQUb",
        "colab_type": "code",
        "outputId": "6cecb247-66e2-4844-e7c1-4826c1f9aa98",
        "colab": {
          "base_uri": "https://localhost:8080/",
          "height": 118
        }
      },
      "source": [
        "print('total training cat images:', len(os.listdir(train_cats_dir)))\n",
        "print('total training dog images:', len(os.listdir(train_dogs_dir)))\n",
        "print('total validation cat images:', len(os.listdir(validation_cats_dir)))\n",
        "print('total validation dog images:', len(os.listdir(validation_dogs_dir)))\n",
        "print('total test cat images:', len(os.listdir(test_cats_dir)))\n",
        "print('total test dog images:', len(os.listdir(test_dogs_dir)))"
      ],
      "execution_count": 8,
      "outputs": [
        {
          "output_type": "stream",
          "text": [
            "total training cat images: 1000\n",
            "total training dog images: 1000\n",
            "total validation cat images: 500\n",
            "total validation dog images: 500\n",
            "total test cat images: 500\n",
            "total test dog images: 500\n"
          ],
          "name": "stdout"
        }
      ]
    },
    {
      "cell_type": "code",
      "metadata": {
        "id": "tJNv14lmrXNX",
        "colab_type": "code",
        "outputId": "7fb08cbc-3b0c-41b6-f278-a1b9cfe46f2f",
        "colab": {
          "base_uri": "https://localhost:8080/",
          "height": 50
        }
      },
      "source": [
        "from tensorflow.keras.preprocessing.image import ImageDataGenerator\n",
        "\n",
        "train_datagen = ImageDataGenerator(\n",
        "      rescale=1./255,\n",
        "      rotation_range=40,\n",
        "      width_shift_range=0.2,\n",
        "      height_shift_range=0.2,\n",
        "      shear_range=0.2,\n",
        "      zoom_range=0.2,\n",
        "      horizontal_flip=True,\n",
        "      fill_mode='nearest')\n",
        "\n",
        "test_datagen = ImageDataGenerator(rescale=1./255)\n",
        "\n",
        "train_generator = train_datagen.flow_from_directory(\n",
        "        train_dir,\n",
        "        target_size=(height, width),\n",
        "        batch_size=batch_size,\n",
        "        class_mode='categorical')\n",
        "\n",
        "validation_generator = test_datagen.flow_from_directory(\n",
        "        validation_dir,\n",
        "        target_size=(height, width),\n",
        "        batch_size=batch_size,\n",
        "        class_mode='categorical')"
      ],
      "execution_count": 9,
      "outputs": [
        {
          "output_type": "stream",
          "text": [
            "Found 2000 images belonging to 2 classes.\n",
            "Found 1000 images belonging to 2 classes.\n"
          ],
          "name": "stdout"
        }
      ]
    },
    {
      "cell_type": "code",
      "metadata": {
        "id": "mPLb4exjtH6d",
        "colab_type": "code",
        "colab": {
          "base_uri": "https://localhost:8080/",
          "height": 70
        },
        "outputId": "5671cbdd-11c7-4197-867a-34fbcfee83f5"
      },
      "source": [
        "#model =  models.Sequential()\n",
        "#model.add(conv_base)\n",
        "#model.add(layers.GlobalMaxPooling2D(name=\"gap\"))\n",
        "#model.add(layers.Dense(2, activation='softmax', name=\"fc_out\"))\n",
        "\n",
        "model =  Sequential([\n",
        "                     conv_base,\n",
        "                     GlobalAveragePooling2D(name=\"gap\"),\n",
        "                     Dense(2, activation='softmax', name=\"fc_out\")\n",
        "])"
      ],
      "execution_count": 10,
      "outputs": [
        {
          "output_type": "stream",
          "text": [
            "WARNING:tensorflow:From /usr/local/lib/python3.6/dist-packages/keras/backend/tensorflow_backend.py:4432: The name tf.random_uniform is deprecated. Please use tf.random.uniform instead.\n",
            "\n"
          ],
          "name": "stdout"
        }
      ]
    },
    {
      "cell_type": "code",
      "metadata": {
        "id": "6hFtNcOvwLkz",
        "colab_type": "code",
        "outputId": "0c3cfbdc-e6f1-4c89-a523-6aff013890bf",
        "colab": {
          "base_uri": "https://localhost:8080/",
          "height": 252
        }
      },
      "source": [
        "conv_base.trainable = False\n",
        "model.summary()"
      ],
      "execution_count": 11,
      "outputs": [
        {
          "output_type": "stream",
          "text": [
            "Model: \"sequential_1\"\n",
            "_________________________________________________________________\n",
            "Layer (type)                 Output Shape              Param #   \n",
            "=================================================================\n",
            "resnet50 (Model)             (None, 5, 5, 2048)        23587712  \n",
            "_________________________________________________________________\n",
            "gap (GlobalAveragePooling2D) (None, 2048)              0         \n",
            "_________________________________________________________________\n",
            "fc_out (Dense)               (None, 2)                 4098      \n",
            "=================================================================\n",
            "Total params: 23,591,810\n",
            "Trainable params: 4,098\n",
            "Non-trainable params: 23,587,712\n",
            "_________________________________________________________________\n"
          ],
          "name": "stdout"
        }
      ]
    },
    {
      "cell_type": "code",
      "metadata": {
        "id": "0uwOI7KdwhYD",
        "colab_type": "code",
        "outputId": "7143b7b1-b096-4428-acd8-e861d2f81449",
        "colab": {
          "base_uri": "https://localhost:8080/",
          "height": 894
        }
      },
      "source": [
        "from keras import optimizers\n",
        "model.compile(loss='categorical_crossentropy',\n",
        "              optimizer=optimizers.RMSprop(lr=2e-5),\n",
        "              metrics=['acc'])\n",
        "\n",
        "history= model.fit_generator(\n",
        "    train_generator,\n",
        "    steps_per_epoch=NUM_TRAIN//batch_size,\n",
        "    epochs=epochs,\n",
        "    validation_data=validation_generator,\n",
        "    verbose=1,\n",
        "    use_multiprocessing=True,\n",
        "    workers=4)\n"
      ],
      "execution_count": 12,
      "outputs": [
        {
          "output_type": "stream",
          "text": [
            "WARNING:tensorflow:From /usr/local/lib/python3.6/dist-packages/keras/optimizers.py:793: The name tf.train.Optimizer is deprecated. Please use tf.compat.v1.train.Optimizer instead.\n",
            "\n",
            "WARNING:tensorflow:From /usr/local/lib/python3.6/dist-packages/keras/backend/tensorflow_backend.py:3576: The name tf.log is deprecated. Please use tf.math.log instead.\n",
            "\n",
            "WARNING:tensorflow:From /tensorflow-1.15.2/python3.6/tensorflow_core/python/ops/math_grad.py:1424: where (from tensorflow.python.ops.array_ops) is deprecated and will be removed in a future version.\n",
            "Instructions for updating:\n",
            "Use tf.where in 2.0, which has the same broadcast rule as np.where\n",
            "WARNING:tensorflow:From /usr/local/lib/python3.6/dist-packages/keras/backend/tensorflow_backend.py:1033: The name tf.assign_add is deprecated. Please use tf.compat.v1.assign_add instead.\n",
            "\n",
            "WARNING:tensorflow:From /usr/local/lib/python3.6/dist-packages/keras/backend/tensorflow_backend.py:1020: The name tf.assign is deprecated. Please use tf.compat.v1.assign instead.\n",
            "\n",
            "Epoch 1/20\n",
            "41/41 [==============================] - 378s 9s/step - loss: 0.8258 - acc: 0.5185 - val_loss: 0.7847 - val_acc: 0.5000\n",
            "Epoch 2/20\n",
            "41/41 [==============================] - 373s 9s/step - loss: 0.7356 - acc: 0.5737 - val_loss: 0.7906 - val_acc: 0.5000\n",
            "Epoch 3/20\n",
            "41/41 [==============================] - 375s 9s/step - loss: 0.7049 - acc: 0.5940 - val_loss: 0.7957 - val_acc: 0.5000\n",
            "Epoch 4/20\n",
            "41/41 [==============================] - 373s 9s/step - loss: 0.6561 - acc: 0.6387 - val_loss: 0.8018 - val_acc: 0.5000\n",
            "Epoch 5/20\n",
            "41/41 [==============================] - 373s 9s/step - loss: 0.6082 - acc: 0.6763 - val_loss: 0.8098 - val_acc: 0.5000\n",
            "Epoch 6/20\n",
            "41/41 [==============================] - 374s 9s/step - loss: 0.5928 - acc: 0.6837 - val_loss: 0.8140 - val_acc: 0.5000\n",
            "Epoch 7/20\n",
            "41/41 [==============================] - 373s 9s/step - loss: 0.5524 - acc: 0.7297 - val_loss: 0.8192 - val_acc: 0.5000\n",
            "Epoch 8/20\n",
            "41/41 [==============================] - 373s 9s/step - loss: 0.5152 - acc: 0.7469 - val_loss: 0.8234 - val_acc: 0.5000\n",
            "Epoch 9/20\n",
            "41/41 [==============================] - 372s 9s/step - loss: 0.4941 - acc: 0.7655 - val_loss: 0.8229 - val_acc: 0.5000\n",
            "Epoch 10/20\n",
            "41/41 [==============================] - 376s 9s/step - loss: 0.4809 - acc: 0.7759 - val_loss: 0.8333 - val_acc: 0.5000\n",
            "Epoch 11/20\n",
            "41/41 [==============================] - 371s 9s/step - loss: 0.4491 - acc: 0.8013 - val_loss: 0.8347 - val_acc: 0.5000\n",
            "Epoch 12/20\n",
            "41/41 [==============================] - 374s 9s/step - loss: 0.4362 - acc: 0.7965 - val_loss: 0.8458 - val_acc: 0.5000\n",
            "Epoch 13/20\n",
            "41/41 [==============================] - 373s 9s/step - loss: 0.4181 - acc: 0.8163 - val_loss: 0.8451 - val_acc: 0.5000\n",
            "Epoch 14/20\n",
            "41/41 [==============================] - 376s 9s/step - loss: 0.4035 - acc: 0.8232 - val_loss: 0.8504 - val_acc: 0.5000\n",
            "Epoch 15/20\n",
            "41/41 [==============================] - 374s 9s/step - loss: 0.3939 - acc: 0.8265 - val_loss: 0.8521 - val_acc: 0.5000\n",
            "Epoch 16/20\n",
            "41/41 [==============================] - 378s 9s/step - loss: 0.3920 - acc: 0.8216 - val_loss: 0.8489 - val_acc: 0.5000\n",
            "Epoch 17/20\n",
            "41/41 [==============================] - 375s 9s/step - loss: 0.3759 - acc: 0.8313 - val_loss: 0.8566 - val_acc: 0.5000\n",
            "Epoch 18/20\n",
            "41/41 [==============================] - 375s 9s/step - loss: 0.3640 - acc: 0.8407 - val_loss: 0.8576 - val_acc: 0.5000\n",
            "Epoch 19/20\n",
            "41/41 [==============================] - 376s 9s/step - loss: 0.3618 - acc: 0.8351 - val_loss: 0.8602 - val_acc: 0.5000\n",
            "Epoch 20/20\n",
            "41/41 [==============================] - 378s 9s/step - loss: 0.3621 - acc: 0.8384 - val_loss: 0.8593 - val_acc: 0.5000\n"
          ],
          "name": "stdout"
        }
      ]
    },
    {
      "cell_type": "code",
      "metadata": {
        "id": "hSKPEBzB_Nn8",
        "colab_type": "code",
        "outputId": "01f43ff0-218f-4289-e5da-3a3eda70749b",
        "colab": {
          "base_uri": "https://localhost:8080/",
          "height": 67
        }
      },
      "source": [
        "test_generator = test_datagen.flow_from_directory(\n",
        "        test_dir,\n",
        "        target_size=(height, width),\n",
        "        batch_size=batch_size,\n",
        "        class_mode='categorical')\n",
        "\n",
        "result_loss,result_acc=model.evaluate(test_generator)\n",
        "print(result_acc)"
      ],
      "execution_count": 13,
      "outputs": [
        {
          "output_type": "stream",
          "text": [
            "Found 1000 images belonging to 2 classes.\n",
            "21/21 [==============================] - 135s 6s/step\n",
            "0.5000000007152557\n"
          ],
          "name": "stdout"
        }
      ]
    }
  ]
}